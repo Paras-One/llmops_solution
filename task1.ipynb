{
 "cells": [
  {
   "cell_type": "markdown",
   "metadata": {},
   "source": [
    "#### Implement a tool using YouTubeSearchTool and YoutubeLoader to search and obtain transcript of a video obtained on searching ‘LangChain’ in YouTube"
   ]
  },
  {
   "cell_type": "markdown",
   "metadata": {},
   "source": []
  },
  {
   "cell_type": "code",
   "execution_count": 8,
   "metadata": {},
   "outputs": [],
   "source": [
    "from langchain_community.tools import YouTubeSearchTool\n",
    "from langchain_community.document_loaders import YoutubeLoader\n",
    "\n",
    "\n"
   ]
  },
  {
   "cell_type": "code",
   "execution_count": 2,
   "metadata": {},
   "outputs": [],
   "source": [
    "tool = YouTubeSearchTool()"
   ]
  },
  {
   "cell_type": "code",
   "execution_count": 12,
   "metadata": {},
   "outputs": [],
   "source": [
    "urls = tool.run(\"Langchain\")    "
   ]
  },
  {
   "cell_type": "code",
   "execution_count": 13,
   "metadata": {},
   "outputs": [
    {
     "ename": "ValueError",
     "evalue": "Could not determine the video ID for the URL [",
     "output_type": "error",
     "traceback": [
      "\u001b[0;31m---------------------------------------------------------------------------\u001b[0m",
      "\u001b[0;31mValueError\u001b[0m                                Traceback (most recent call last)",
      "Cell \u001b[0;32mIn[13], line 1\u001b[0m\n\u001b[0;32m----> 1\u001b[0m loader \u001b[38;5;241m=\u001b[39m \u001b[43mYoutubeLoader\u001b[49m\u001b[38;5;241;43m.\u001b[39;49m\u001b[43mfrom_youtube_url\u001b[49m\u001b[43m(\u001b[49m\n\u001b[1;32m      2\u001b[0m \u001b[43m    \u001b[49m\u001b[43murls\u001b[49m\u001b[43m[\u001b[49m\u001b[38;5;241;43m0\u001b[39;49m\u001b[43m]\u001b[49m\u001b[43m,\u001b[49m\u001b[43m \u001b[49m\u001b[43madd_video_info\u001b[49m\u001b[38;5;241;43m=\u001b[39;49m\u001b[38;5;28;43;01mFalse\u001b[39;49;00m\n\u001b[1;32m      3\u001b[0m \u001b[43m)\u001b[49m\n",
      "File \u001b[0;32m~/.local/lib/python3.8/site-packages/langchain_community/document_loaders/youtube.py:187\u001b[0m, in \u001b[0;36mYoutubeLoader.from_youtube_url\u001b[0;34m(cls, youtube_url, **kwargs)\u001b[0m\n\u001b[1;32m    184\u001b[0m \u001b[38;5;129m@classmethod\u001b[39m\n\u001b[1;32m    185\u001b[0m \u001b[38;5;28;01mdef\u001b[39;00m \u001b[38;5;21mfrom_youtube_url\u001b[39m(\u001b[38;5;28mcls\u001b[39m, youtube_url: \u001b[38;5;28mstr\u001b[39m, \u001b[38;5;241m*\u001b[39m\u001b[38;5;241m*\u001b[39mkwargs: Any) \u001b[38;5;241m-\u001b[39m\u001b[38;5;241m>\u001b[39m YoutubeLoader:\n\u001b[1;32m    186\u001b[0m \u001b[38;5;250m    \u001b[39m\u001b[38;5;124;03m\"\"\"Given youtube URL, load video.\"\"\"\u001b[39;00m\n\u001b[0;32m--> 187\u001b[0m     video_id \u001b[38;5;241m=\u001b[39m \u001b[38;5;28;43mcls\u001b[39;49m\u001b[38;5;241;43m.\u001b[39;49m\u001b[43mextract_video_id\u001b[49m\u001b[43m(\u001b[49m\u001b[43myoutube_url\u001b[49m\u001b[43m)\u001b[49m\n\u001b[1;32m    188\u001b[0m     \u001b[38;5;28;01mreturn\u001b[39;00m \u001b[38;5;28mcls\u001b[39m(video_id, \u001b[38;5;241m*\u001b[39m\u001b[38;5;241m*\u001b[39mkwargs)\n",
      "File \u001b[0;32m~/.local/lib/python3.8/site-packages/langchain_community/document_loaders/youtube.py:179\u001b[0m, in \u001b[0;36mYoutubeLoader.extract_video_id\u001b[0;34m(youtube_url)\u001b[0m\n\u001b[1;32m    177\u001b[0m video_id \u001b[38;5;241m=\u001b[39m _parse_video_id(youtube_url)\n\u001b[1;32m    178\u001b[0m \u001b[38;5;28;01mif\u001b[39;00m \u001b[38;5;129;01mnot\u001b[39;00m video_id:\n\u001b[0;32m--> 179\u001b[0m     \u001b[38;5;28;01mraise\u001b[39;00m \u001b[38;5;167;01mValueError\u001b[39;00m(\n\u001b[1;32m    180\u001b[0m         \u001b[38;5;124mf\u001b[39m\u001b[38;5;124m\"\u001b[39m\u001b[38;5;124mCould not determine the video ID for the URL \u001b[39m\u001b[38;5;132;01m{\u001b[39;00myoutube_url\u001b[38;5;132;01m}\u001b[39;00m\u001b[38;5;124m\"\u001b[39m\n\u001b[1;32m    181\u001b[0m     )\n\u001b[1;32m    182\u001b[0m \u001b[38;5;28;01mreturn\u001b[39;00m video_id\n",
      "\u001b[0;31mValueError\u001b[0m: Could not determine the video ID for the URL ["
     ]
    }
   ],
   "source": [
    "loader = YoutubeLoader.from_youtube_url(\n",
    "    urls[0], add_video_info=False\n",
    ")"
   ]
  },
  {
   "cell_type": "code",
   "execution_count": 14,
   "metadata": {},
   "outputs": [
    {
     "data": {
      "text/plain": [
       "'['"
      ]
     },
     "execution_count": 14,
     "metadata": {},
     "output_type": "execute_result"
    }
   ],
   "source": [
    "urls[0]"
   ]
  },
  {
   "cell_type": "code",
   "execution_count": 18,
   "metadata": {},
   "outputs": [
    {
     "name": "stdout",
     "output_type": "stream",
     "text": [
      "Question: Who composed the soundtrack for the movie 'Inception'?\n",
      " Are follow up questions needed here: Yes.\n",
      "Follow up: What is the name of the composer?\n",
      "Intermediate answer: The composer of the soundtrack for 'Inception' is Hans Zimmer.\n",
      "Follow up: Is Hans Zimmer known for composing music for other movies as well?\n",
      "Intermediate answer: Yes, Hans Zimmer is a renowned composer who has composed music for various other movies including 'The Dark Knight', 'Gladiator', and 'Interstellar’.\n",
      "Sothe final answer is:Hans Zimmer\n",
      "Question: Who composed the soundtrack for the movie 'Inception'?\n",
      " Are follow up questions needed here: Yes.\n",
      "Follow up: What is the name of the composer?\n",
      "Intermediate answer: The composer of the soundtrack for 'Inception' is Hans Zimmer.\n",
      "Follow up: Is Hans Zimmer known for composing music for other movies as well?\n",
      "Intermediate answer: Yes, Hans Zimmer is a renowned composer who has composed music for various other movies including 'The Dark Knight', 'Gladiator', and 'Interstellar’.\n",
      "Sothe final answer is:Hans Zimmer\n",
      "\n",
      "Question: Who is the author of 'To Kill a Mockingbird'?\n",
      "Arefollow up questions needed here: Yes.\n",
      "Follow up: What is the name of the author?\n",
      "Intermediate answer: The author of 'To Kill a Mockingbird' is Harper Lee.\n",
      "Follow up: Did Harper Lee write any other notable works?\n",
      "Intermediate answer: Yes, Harper Lee wrote another novel titled 'Go Set a Watchman', which was published after 'To Kill a Mockingbird’.\n",
      "Sothe final answer is:Harper Lee\n",
      "\n",
      "Question: What is the capital city of Australia?\n",
      " Are follow up questions needed here: No.\n",
      "Final answer: Canberra\n",
      "\n",
      "Question: When did World War 1 end?\n"
     ]
    },
    {
     "data": {
      "text/plain": [
       "AIMessage(content='Are follow up questions needed here: Yes.\\nFollow up: What was the date of the end of World War 1?\\nIntermediate answer: World War 1 ended on November 11, 1918.\\nSo the final answer is: November 11, 1918', response_metadata={'token_usage': {'completion_tokens': 55, 'prompt_tokens': 260, 'total_tokens': 315}, 'model_name': 'gpt-35-turbo', 'system_fingerprint': 'fp_2f57f81c11', 'prompt_filter_results': [{'prompt_index': 0, 'content_filter_results': {'hate': {'filtered': False, 'severity': 'safe'}, 'self_harm': {'filtered': False, 'severity': 'safe'}, 'sexual': {'filtered': False, 'severity': 'safe'}, 'violence': {'filtered': False, 'severity': 'safe'}}}], 'finish_reason': 'stop', 'logprobs': None, 'content_filter_results': {'hate': {'filtered': False, 'severity': 'safe'}, 'self_harm': {'filtered': False, 'severity': 'safe'}, 'sexual': {'filtered': False, 'severity': 'safe'}, 'violence': {'filtered': False, 'severity': 'safe'}}}, id='run-cad18abc-d56e-45ca-9df1-86cd011f579c-0')"
      ]
     },
     "execution_count": 18,
     "metadata": {},
     "output_type": "execute_result"
    }
   ],
   "source": [
    "from langchain.prompts.few_shot import FewShotPromptTemplate\n",
    "from langchain.prompts.prompt import PromptTemplate\n",
    " \n",
    "examples = [{\"question\": \"Who composed the soundtrack for the movie 'Inception'?\",\n",
    " \"answer\": \"\"\" Are follow up questions needed here: Yes.\n",
    "Follow up: What is the name of the composer?\n",
    "Intermediate answer: The composer of the soundtrack for 'Inception' is Hans Zimmer.\n",
    "Follow up: Is Hans Zimmer known for composing music for other movies as well?\n",
    "Intermediate answer: Yes, Hans Zimmer is a renowned composer who has composed music for various other movies including 'The Dark Knight', 'Gladiator', and 'Interstellar’.\n",
    "Sothe final answer is:Hans Zimmer\"\"\"},\n",
    "{\"question\": \"Who is the author of 'To Kill a Mockingbird'?\",\n",
    "\"answer\":\"\"\"Arefollow up questions needed here: Yes.\n",
    "Follow up: What is the name of the author?\n",
    "Intermediate answer: The author of 'To Kill a Mockingbird' is Harper Lee.\n",
    "Follow up: Did Harper Lee write any other notable works?\n",
    "Intermediate answer: Yes, Harper Lee wrote another novel titled 'Go Set a Watchman', which was published after 'To Kill a Mockingbird’.\n",
    "Sothe final answer is:Harper Lee\"\"\"},\n",
    "{\"question\": \"What is the capital city of Australia?\",\n",
    "\"answer\": \"\"\" Are follow up questions needed here: No.\n",
    "Final answer: Canberra\"\"\"}]\n",
    "example_prompt= PromptTemplate(input_variables=[\"question\", \"answer\"], template=\"Question: {question}\\n{answer}\")\n",
    "print(example_prompt.format(**examples[0]))\n",
    " \n",
    "prompt = FewShotPromptTemplate(\n",
    "examples=examples,\n",
    "example_prompt=example_prompt,\n",
    "suffix=\"Question: {input}\",\n",
    "input_variables=[\"input\"]\n",
    ")\n",
    " \n",
    "print(prompt.format(input=\"When did World War 1 end?\"))\n",
    " \n",
    "from langchain_openai import AzureChatOpenAI\n",
    "chat = AzureChatOpenAI(temperature=0,api_key=\"39f2089f6a2a4c52967260b0e9ffdc33\",api_version=\"2024-02-01\",azure_endpoint=\"https://dono-rag-demo-resource-instance.openai.azure.com\",model=\"GPT_35_TURBO_DEMO_RAG_DEPLOYMENT_DONO\")\n",
    " \n",
    "chat.invoke(prompt.format(input=\"When did World War 1 end?\"))"
   ]
  },
  {
   "cell_type": "code",
   "execution_count": null,
   "metadata": {},
   "outputs": [],
   "source": []
  }
 ],
 "metadata": {
  "kernelspec": {
   "display_name": "Python 3",
   "language": "python",
   "name": "python3"
  },
  "language_info": {
   "codemirror_mode": {
    "name": "ipython",
    "version": 3
   },
   "file_extension": ".py",
   "mimetype": "text/x-python",
   "name": "python",
   "nbconvert_exporter": "python",
   "pygments_lexer": "ipython3",
   "version": "3.8.10"
  }
 },
 "nbformat": 4,
 "nbformat_minor": 2
}
